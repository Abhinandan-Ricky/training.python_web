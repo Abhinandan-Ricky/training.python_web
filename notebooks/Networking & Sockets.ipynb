{
 "cells": [
  {
   "cell_type": "code",
   "execution_count": 3,
   "metadata": {
    "collapsed": true
   },
   "outputs": [],
   "source": [
    "import socket"
   ]
  },
  {
   "cell_type": "code",
   "execution_count": 4,
   "metadata": {
    "collapsed": true
   },
   "outputs": [],
   "source": [
    "def get_constants(prefix):\n",
    "    \"\"\"mapping of socket module constants to their names\"\"\"\n",
    "    return {getattr(socket, n): n\n",
    "            for n in dir(socket)\n",
    "            if n.startswith(prefix)\n",
    "    }"
   ]
  },
  {
   "cell_type": "code",
   "execution_count": 5,
   "metadata": {
    "collapsed": false
   },
   "outputs": [],
   "source": [
    "families = get_constants('AF_')\n",
    "types = get_constants('SOCK_')\n",
    "protocols = get_constants('IPPROTO_')"
   ]
  },
  {
   "cell_type": "code",
   "execution_count": 6,
   "metadata": {
    "collapsed": false
   },
   "outputs": [
    {
     "data": {
      "text/plain": [
       "{<AddressFamily.AF_UNSPEC: 0>: 'AF_UNSPEC',\n",
       " <AddressFamily.AF_UNIX: 1>: 'AF_UNIX',\n",
       " <AddressFamily.AF_INET: 2>: 'AF_INET',\n",
       " <AddressFamily.AF_SNA: 11>: 'AF_SNA',\n",
       " 12: 'AF_DECnet',\n",
       " <AddressFamily.AF_APPLETALK: 16>: 'AF_APPLETALK',\n",
       " <AddressFamily.AF_ROUTE: 17>: 'AF_ROUTE',\n",
       " <AddressFamily.AF_LINK: 18>: 'AF_LINK',\n",
       " <AddressFamily.AF_IPX: 23>: 'AF_IPX',\n",
       " <AddressFamily.AF_INET6: 30>: 'AF_INET6',\n",
       " <AddressFamily.AF_SYSTEM: 32>: 'AF_SYSTEM'}"
      ]
     },
     "execution_count": 6,
     "metadata": {},
     "output_type": "execute_result"
    }
   ],
   "source": [
    "families"
   ]
  },
  {
   "cell_type": "code",
   "execution_count": 7,
   "metadata": {
    "collapsed": false
   },
   "outputs": [
    {
     "data": {
      "text/plain": [
       "{<SocketKind.SOCK_STREAM: 1>: 'SOCK_STREAM',\n",
       " <SocketKind.SOCK_DGRAM: 2>: 'SOCK_DGRAM',\n",
       " <SocketKind.SOCK_RAW: 3>: 'SOCK_RAW',\n",
       " <SocketKind.SOCK_RDM: 4>: 'SOCK_RDM',\n",
       " <SocketKind.SOCK_SEQPACKET: 5>: 'SOCK_SEQPACKET'}"
      ]
     },
     "execution_count": 7,
     "metadata": {},
     "output_type": "execute_result"
    }
   ],
   "source": [
    "types"
   ]
  },
  {
   "cell_type": "code",
   "execution_count": 8,
   "metadata": {
    "collapsed": false
   },
   "outputs": [
    {
     "data": {
      "text/plain": [
       "{0: 'IPPROTO_IP',\n",
       " 1: 'IPPROTO_ICMP',\n",
       " 2: 'IPPROTO_IGMP',\n",
       " 3: 'IPPROTO_GGP',\n",
       " 4: 'IPPROTO_IPV4',\n",
       " 6: 'IPPROTO_TCP',\n",
       " 8: 'IPPROTO_EGP',\n",
       " 12: 'IPPROTO_PUP',\n",
       " 17: 'IPPROTO_UDP',\n",
       " 22: 'IPPROTO_IDP',\n",
       " 29: 'IPPROTO_TP',\n",
       " 36: 'IPPROTO_XTP',\n",
       " 41: 'IPPROTO_IPV6',\n",
       " 43: 'IPPROTO_ROUTING',\n",
       " 44: 'IPPROTO_FRAGMENT',\n",
       " 46: 'IPPROTO_RSVP',\n",
       " 47: 'IPPROTO_GRE',\n",
       " 50: 'IPPROTO_ESP',\n",
       " 51: 'IPPROTO_AH',\n",
       " 58: 'IPPROTO_ICMPV6',\n",
       " 59: 'IPPROTO_NONE',\n",
       " 60: 'IPPROTO_DSTOPTS',\n",
       " 63: 'IPPROTO_HELLO',\n",
       " 77: 'IPPROTO_ND',\n",
       " 80: 'IPPROTO_EON',\n",
       " 103: 'IPPROTO_PIM',\n",
       " 108: 'IPPROTO_IPCOMP',\n",
       " 132: 'IPPROTO_SCTP',\n",
       " 255: 'IPPROTO_RAW',\n",
       " 256: 'IPPROTO_MAX'}"
      ]
     },
     "execution_count": 8,
     "metadata": {},
     "output_type": "execute_result"
    }
   ],
   "source": [
    "protocols"
   ]
  },
  {
   "cell_type": "code",
   "execution_count": 9,
   "metadata": {
    "collapsed": true
   },
   "outputs": [],
   "source": [
    "default_socket = socket.socket()"
   ]
  },
  {
   "cell_type": "code",
   "execution_count": 10,
   "metadata": {
    "collapsed": false
   },
   "outputs": [
    {
     "data": {
      "text/plain": [
       "'AF_INET'"
      ]
     },
     "execution_count": 10,
     "metadata": {},
     "output_type": "execute_result"
    }
   ],
   "source": [
    "families[default_socket.family]"
   ]
  },
  {
   "cell_type": "code",
   "execution_count": 11,
   "metadata": {
    "collapsed": false
   },
   "outputs": [
    {
     "data": {
      "text/plain": [
       "'SOCK_STREAM'"
      ]
     },
     "execution_count": 11,
     "metadata": {},
     "output_type": "execute_result"
    }
   ],
   "source": [
    "types[default_socket.type]"
   ]
  },
  {
   "cell_type": "code",
   "execution_count": 12,
   "metadata": {
    "collapsed": false
   },
   "outputs": [
    {
     "data": {
      "text/plain": [
       "'IPPROTO_IP'"
      ]
     },
     "execution_count": 12,
     "metadata": {},
     "output_type": "execute_result"
    }
   ],
   "source": [
    "protocols[default_socket.proto]"
   ]
  },
  {
   "cell_type": "code",
   "execution_count": 13,
   "metadata": {
    "collapsed": true
   },
   "outputs": [],
   "source": [
    "def get_address_info(host, port):\n",
    "    for response in socket.getaddrinfo(host, port):\n",
    "        fam, typ, pro, nam, add = response\n",
    "        print('family: {}'.format(families[fam]))\n",
    "        print('type: {}'.format(types[typ]))\n",
    "        print('protocol: {}'.format(protocols[pro]))\n",
    "        print('canonical name: {}'.format(nam))\n",
    "        print('socket address: {}'.format(add))\n",
    "        print('')"
   ]
  },
  {
   "cell_type": "code",
   "execution_count": 14,
   "metadata": {
    "collapsed": false
   },
   "outputs": [
    {
     "name": "stdout",
     "output_type": "stream",
     "text": [
      "family: AF_INET\n",
      "type: SOCK_DGRAM\n",
      "protocol: IPPROTO_UDP\n",
      "canonical name: \n",
      "socket address: ('127.0.0.1', 80)\n",
      "\n",
      "family: AF_INET\n",
      "type: SOCK_STREAM\n",
      "protocol: IPPROTO_TCP\n",
      "canonical name: \n",
      "socket address: ('127.0.0.1', 80)\n",
      "\n"
     ]
    }
   ],
   "source": [
    "get_address_info(socket.gethostname(), 'http')"
   ]
  },
  {
   "cell_type": "code",
   "execution_count": null,
   "metadata": {
    "collapsed": true
   },
   "outputs": [],
   "source": []
  }
 ],
 "metadata": {
  "kernelspec": {
   "display_name": "Python 3",
   "language": "python",
   "name": "python3"
  },
  "language_info": {
   "codemirror_mode": {
    "name": "ipython",
    "version": 3
   },
   "file_extension": ".py",
   "mimetype": "text/x-python",
   "name": "python",
   "nbconvert_exporter": "python",
   "pygments_lexer": "ipython3",
   "version": "3.4.3"
  }
 },
 "nbformat": 4,
 "nbformat_minor": 0
}
